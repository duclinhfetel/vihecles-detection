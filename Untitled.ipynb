{
 "cells": [
  {
   "cell_type": "code",
   "execution_count": 1,
   "metadata": {},
   "outputs": [
    {
     "name": "stderr",
     "output_type": "stream",
     "text": [
      "Using TensorFlow backend.\n"
     ]
    },
    {
     "name": "stdout",
     "output_type": "stream",
     "text": [
      "--------------------- done --------------------\n"
     ]
    }
   ],
   "source": [
    "import cv2\n",
    "\n",
    "import matplotlib.pyplot as plt\n",
    "from matplotlib.patches import Rectangle\n",
    "import numpy as np\n",
    "%matplotlib inline\n",
    "import glob\n",
    "\n",
    "from keras.models import Model\n",
    "from keras.layers import Input, merge, Convolution2D, MaxPooling2D, UpSampling2D,Lambda, Conv2DTranspose,Conv2D,concatenate\n",
    "from keras.optimizers import Adam\n",
    "from keras.callbacks import ModelCheckpoint, LearningRateScheduler\n",
    "from keras import backend as K\n",
    "from keras.callbacks import ModelCheckpoint\n",
    "\n",
    "from scipy.ndimage.measurements import label\n",
    "\n",
    "import os\n",
    "from skimage.transform import resize\n",
    "\n",
    "import time\n",
    "print(\"--------------------- done --------------------\")"
   ]
  },
  {
   "cell_type": "code",
   "execution_count": 2,
   "metadata": {
    "collapsed": true
   },
   "outputs": [],
   "source": [
    "dir_label = ['object-dataset',\n",
    "            'object-detection-crowdai']"
   ]
  },
  {
   "cell_type": "code",
   "execution_count": 3,
   "metadata": {},
   "outputs": [
    {
     "name": "stdout",
     "output_type": "stream",
     "text": [
      "object-detection-crowdai\n"
     ]
    },
    {
     "data": {
      "text/html": [
       "<div>\n",
       "<table border=\"1\" class=\"dataframe\">\n",
       "  <thead>\n",
       "    <tr style=\"text-align: right;\">\n",
       "      <th></th>\n",
       "      <th>xmin</th>\n",
       "      <th>xmax</th>\n",
       "      <th>ymin</th>\n",
       "      <th>ymax</th>\n",
       "      <th>Frame</th>\n",
       "      <th>Label</th>\n",
       "      <th>File_Path</th>\n",
       "    </tr>\n",
       "  </thead>\n",
       "  <tbody>\n",
       "    <tr>\n",
       "      <th>0</th>\n",
       "      <td>785</td>\n",
       "      <td>533</td>\n",
       "      <td>905</td>\n",
       "      <td>644</td>\n",
       "      <td>1479498371963069978.jpg</td>\n",
       "      <td>Car</td>\n",
       "      <td>object-detection-crowdai/1479498371963069978.jpg</td>\n",
       "    </tr>\n",
       "    <tr>\n",
       "      <th>1</th>\n",
       "      <td>89</td>\n",
       "      <td>551</td>\n",
       "      <td>291</td>\n",
       "      <td>680</td>\n",
       "      <td>1479498371963069978.jpg</td>\n",
       "      <td>Car</td>\n",
       "      <td>object-detection-crowdai/1479498371963069978.jpg</td>\n",
       "    </tr>\n",
       "    <tr>\n",
       "      <th>2</th>\n",
       "      <td>268</td>\n",
       "      <td>546</td>\n",
       "      <td>383</td>\n",
       "      <td>650</td>\n",
       "      <td>1479498371963069978.jpg</td>\n",
       "      <td>Car</td>\n",
       "      <td>object-detection-crowdai/1479498371963069978.jpg</td>\n",
       "    </tr>\n",
       "    <tr>\n",
       "      <th>3</th>\n",
       "      <td>455</td>\n",
       "      <td>522</td>\n",
       "      <td>548</td>\n",
       "      <td>615</td>\n",
       "      <td>1479498371963069978.jpg</td>\n",
       "      <td>Truck</td>\n",
       "      <td>object-detection-crowdai/1479498371963069978.jpg</td>\n",
       "    </tr>\n",
       "    <tr>\n",
       "      <th>4</th>\n",
       "      <td>548</td>\n",
       "      <td>522</td>\n",
       "      <td>625</td>\n",
       "      <td>605</td>\n",
       "      <td>1479498371963069978.jpg</td>\n",
       "      <td>Truck</td>\n",
       "      <td>object-detection-crowdai/1479498371963069978.jpg</td>\n",
       "    </tr>\n",
       "  </tbody>\n",
       "</table>\n",
       "</div>"
      ],
      "text/plain": [
       "   xmin  xmax  ymin  ymax                    Frame  Label  \\\n",
       "0   785   533   905   644  1479498371963069978.jpg    Car   \n",
       "1    89   551   291   680  1479498371963069978.jpg    Car   \n",
       "2   268   546   383   650  1479498371963069978.jpg    Car   \n",
       "3   455   522   548   615  1479498371963069978.jpg  Truck   \n",
       "4   548   522   625   605  1479498371963069978.jpg  Truck   \n",
       "\n",
       "                                          File_Path  \n",
       "0  object-detection-crowdai/1479498371963069978.jpg  \n",
       "1  object-detection-crowdai/1479498371963069978.jpg  \n",
       "2  object-detection-crowdai/1479498371963069978.jpg  \n",
       "3  object-detection-crowdai/1479498371963069978.jpg  \n",
       "4  object-detection-crowdai/1479498371963069978.jpg  "
      ]
     },
     "execution_count": 3,
     "metadata": {},
     "output_type": "execute_result"
    }
   ],
   "source": [
    "import pandas as pd\n",
    "\n",
    "\n",
    "df_files1 = pd.read_csv(dir_label[1]+'/labels.csv', header=0)\n",
    "df_vehicles1 = df_files1[(df_files1['Label']=='Car') | (df_files1['Label']=='Truck')].reset_index()\n",
    "df_vehicles1 = df_vehicles1.drop('index', 1)\n",
    "df_vehicles1['File_Path'] =  dir_label[1] + '/' +df_vehicles1['Frame']\n",
    "df_vehicles1 = df_vehicles1.drop('Preview URL', 1)\n",
    "print(dir_label[1])\n",
    "df_vehicles1.head()"
   ]
  },
  {
   "cell_type": "code",
   "execution_count": 4,
   "metadata": {},
   "outputs": [
    {
     "data": {
      "text/html": [
       "<div>\n",
       "<table border=\"1\" class=\"dataframe\">\n",
       "  <thead>\n",
       "    <tr style=\"text-align: right;\">\n",
       "      <th></th>\n",
       "      <th>Frame</th>\n",
       "      <th>xmin</th>\n",
       "      <th>xmax</th>\n",
       "      <th>ymin</th>\n",
       "      <th>ymax</th>\n",
       "      <th>Label</th>\n",
       "      <th>File_Path</th>\n",
       "    </tr>\n",
       "  </thead>\n",
       "  <tbody>\n",
       "    <tr>\n",
       "      <th>0</th>\n",
       "      <td>1478019952686311006.jpg</td>\n",
       "      <td>950</td>\n",
       "      <td>574</td>\n",
       "      <td>1004</td>\n",
       "      <td>620</td>\n",
       "      <td>car</td>\n",
       "      <td>object-dataset/1478019952686311006.jpg</td>\n",
       "    </tr>\n",
       "    <tr>\n",
       "      <th>1</th>\n",
       "      <td>1478019953180167674.jpg</td>\n",
       "      <td>872</td>\n",
       "      <td>586</td>\n",
       "      <td>926</td>\n",
       "      <td>632</td>\n",
       "      <td>car</td>\n",
       "      <td>object-dataset/1478019953180167674.jpg</td>\n",
       "    </tr>\n",
       "    <tr>\n",
       "      <th>2</th>\n",
       "      <td>1478019953689774621.jpg</td>\n",
       "      <td>686</td>\n",
       "      <td>566</td>\n",
       "      <td>728</td>\n",
       "      <td>618</td>\n",
       "      <td>truck</td>\n",
       "      <td>object-dataset/1478019953689774621.jpg</td>\n",
       "    </tr>\n",
       "    <tr>\n",
       "      <th>3</th>\n",
       "      <td>1478019953689774621.jpg</td>\n",
       "      <td>716</td>\n",
       "      <td>578</td>\n",
       "      <td>764</td>\n",
       "      <td>622</td>\n",
       "      <td>car</td>\n",
       "      <td>object-dataset/1478019953689774621.jpg</td>\n",
       "    </tr>\n",
       "    <tr>\n",
       "      <th>4</th>\n",
       "      <td>1478019953689774621.jpg</td>\n",
       "      <td>826</td>\n",
       "      <td>580</td>\n",
       "      <td>880</td>\n",
       "      <td>626</td>\n",
       "      <td>car</td>\n",
       "      <td>object-dataset/1478019953689774621.jpg</td>\n",
       "    </tr>\n",
       "  </tbody>\n",
       "</table>\n",
       "</div>"
      ],
      "text/plain": [
       "                     Frame  xmin  xmax  ymin  ymax  Label  \\\n",
       "0  1478019952686311006.jpg   950   574  1004   620    car   \n",
       "1  1478019953180167674.jpg   872   586   926   632    car   \n",
       "2  1478019953689774621.jpg   686   566   728   618  truck   \n",
       "3  1478019953689774621.jpg   716   578   764   622    car   \n",
       "4  1478019953689774621.jpg   826   580   880   626    car   \n",
       "\n",
       "                                File_Path  \n",
       "0  object-dataset/1478019952686311006.jpg  \n",
       "1  object-dataset/1478019953180167674.jpg  \n",
       "2  object-dataset/1478019953689774621.jpg  \n",
       "3  object-dataset/1478019953689774621.jpg  \n",
       "4  object-dataset/1478019953689774621.jpg  "
      ]
     },
     "execution_count": 4,
     "metadata": {},
     "output_type": "execute_result"
    }
   ],
   "source": [
    "df_files2 = pd.read_csv(dir_label[0] + '/labels.csv', header=None)\n",
    "df_files2.columns= ['Frame',  'xmin', 'xmax', 'ymin','ymax', 'ind', 'Label']\n",
    "df_vehicles2 = df_files2[(df_files2['Label']=='car') | (df_files2['Label']=='truck')].reset_index()\n",
    "df_vehicles2 = df_vehicles2.drop('index', 1)\n",
    "#df_vehicles2 = df_vehicles2.drop('RM', 1)\n",
    "df_vehicles2 = df_vehicles2.drop('ind', 1)\n",
    "\n",
    "df_vehicles2['File_Path'] = dir_label[0] + '/' +df_vehicles2['Frame']\n",
    "\n",
    "df_vehicles2.head()"
   ]
  },
  {
   "cell_type": "code",
   "execution_count": 5,
   "metadata": {},
   "outputs": [
    {
     "data": {
      "text/html": [
       "<div>\n",
       "<table border=\"1\" class=\"dataframe\">\n",
       "  <thead>\n",
       "    <tr style=\"text-align: right;\">\n",
       "      <th></th>\n",
       "      <th>File_Path</th>\n",
       "      <th>Frame</th>\n",
       "      <th>Label</th>\n",
       "      <th>ymin</th>\n",
       "      <th>xmin</th>\n",
       "      <th>ymax</th>\n",
       "      <th>xmax</th>\n",
       "    </tr>\n",
       "  </thead>\n",
       "  <tbody>\n",
       "    <tr>\n",
       "      <th>0</th>\n",
       "      <td>object-detection-crowdai/1479498371963069978.jpg</td>\n",
       "      <td>1479498371963069978.jpg</td>\n",
       "      <td>Car</td>\n",
       "      <td>533</td>\n",
       "      <td>785</td>\n",
       "      <td>644</td>\n",
       "      <td>905</td>\n",
       "    </tr>\n",
       "    <tr>\n",
       "      <th>1</th>\n",
       "      <td>object-detection-crowdai/1479498371963069978.jpg</td>\n",
       "      <td>1479498371963069978.jpg</td>\n",
       "      <td>Car</td>\n",
       "      <td>551</td>\n",
       "      <td>89</td>\n",
       "      <td>680</td>\n",
       "      <td>291</td>\n",
       "    </tr>\n",
       "    <tr>\n",
       "      <th>2</th>\n",
       "      <td>object-detection-crowdai/1479498371963069978.jpg</td>\n",
       "      <td>1479498371963069978.jpg</td>\n",
       "      <td>Car</td>\n",
       "      <td>546</td>\n",
       "      <td>268</td>\n",
       "      <td>650</td>\n",
       "      <td>383</td>\n",
       "    </tr>\n",
       "    <tr>\n",
       "      <th>3</th>\n",
       "      <td>object-detection-crowdai/1479498371963069978.jpg</td>\n",
       "      <td>1479498371963069978.jpg</td>\n",
       "      <td>Truck</td>\n",
       "      <td>522</td>\n",
       "      <td>455</td>\n",
       "      <td>615</td>\n",
       "      <td>548</td>\n",
       "    </tr>\n",
       "    <tr>\n",
       "      <th>4</th>\n",
       "      <td>object-detection-crowdai/1479498371963069978.jpg</td>\n",
       "      <td>1479498371963069978.jpg</td>\n",
       "      <td>Truck</td>\n",
       "      <td>522</td>\n",
       "      <td>548</td>\n",
       "      <td>605</td>\n",
       "      <td>625</td>\n",
       "    </tr>\n",
       "  </tbody>\n",
       "</table>\n",
       "</div>"
      ],
      "text/plain": [
       "                                          File_Path                    Frame  \\\n",
       "0  object-detection-crowdai/1479498371963069978.jpg  1479498371963069978.jpg   \n",
       "1  object-detection-crowdai/1479498371963069978.jpg  1479498371963069978.jpg   \n",
       "2  object-detection-crowdai/1479498371963069978.jpg  1479498371963069978.jpg   \n",
       "3  object-detection-crowdai/1479498371963069978.jpg  1479498371963069978.jpg   \n",
       "4  object-detection-crowdai/1479498371963069978.jpg  1479498371963069978.jpg   \n",
       "\n",
       "   Label  ymin  xmin  ymax  xmax  \n",
       "0    Car   533   785   644   905  \n",
       "1    Car   551    89   680   291  \n",
       "2    Car   546   268   650   383  \n",
       "3  Truck   522   455   615   548  \n",
       "4  Truck   522   548   605   625  "
      ]
     },
     "execution_count": 5,
     "metadata": {},
     "output_type": "execute_result"
    }
   ],
   "source": [
    "df_vehicles = pd.concat([df_vehicles1,df_vehicles2]).reset_index()\n",
    "df_vehicles = df_vehicles.drop('index', 1)\n",
    "df_vehicles.columns =['File_Path','Frame','Label','ymin','xmin','ymax','xmax']\n",
    "df_vehicles.head()"
   ]
  },
  {
   "cell_type": "code",
   "execution_count": 6,
   "metadata": {},
   "outputs": [
    {
     "data": {
      "text/html": [
       "<div>\n",
       "<table border=\"1\" class=\"dataframe\">\n",
       "  <thead>\n",
       "    <tr style=\"text-align: right;\">\n",
       "      <th></th>\n",
       "      <th>File_Path</th>\n",
       "      <th>Frame</th>\n",
       "      <th>Label</th>\n",
       "      <th>ymin</th>\n",
       "      <th>xmin</th>\n",
       "      <th>ymax</th>\n",
       "      <th>xmax</th>\n",
       "    </tr>\n",
       "  </thead>\n",
       "  <tbody>\n",
       "    <tr>\n",
       "      <th>130675</th>\n",
       "      <td>object-dataset/1478901536388465963.jpg</td>\n",
       "      <td>1478901536388465963.jpg</td>\n",
       "      <td>car</td>\n",
       "      <td>552</td>\n",
       "      <td>1048</td>\n",
       "      <td>748</td>\n",
       "      <td>1348</td>\n",
       "    </tr>\n",
       "    <tr>\n",
       "      <th>130676</th>\n",
       "      <td>object-dataset/1478901536960505700.jpg</td>\n",
       "      <td>1478901536960505700.jpg</td>\n",
       "      <td>car</td>\n",
       "      <td>606</td>\n",
       "      <td>0</td>\n",
       "      <td>780</td>\n",
       "      <td>142</td>\n",
       "    </tr>\n",
       "    <tr>\n",
       "      <th>130677</th>\n",
       "      <td>object-dataset/1478901536960505700.jpg</td>\n",
       "      <td>1478901536960505700.jpg</td>\n",
       "      <td>car</td>\n",
       "      <td>604</td>\n",
       "      <td>146</td>\n",
       "      <td>692</td>\n",
       "      <td>246</td>\n",
       "    </tr>\n",
       "    <tr>\n",
       "      <th>130678</th>\n",
       "      <td>object-dataset/1478901536960505700.jpg</td>\n",
       "      <td>1478901536960505700.jpg</td>\n",
       "      <td>car</td>\n",
       "      <td>582</td>\n",
       "      <td>710</td>\n",
       "      <td>618</td>\n",
       "      <td>800</td>\n",
       "    </tr>\n",
       "    <tr>\n",
       "      <th>130679</th>\n",
       "      <td>object-dataset/1478901536960505700.jpg</td>\n",
       "      <td>1478901536960505700.jpg</td>\n",
       "      <td>car</td>\n",
       "      <td>546</td>\n",
       "      <td>896</td>\n",
       "      <td>790</td>\n",
       "      <td>1228</td>\n",
       "    </tr>\n",
       "  </tbody>\n",
       "</table>\n",
       "</div>"
      ],
      "text/plain": [
       "                                     File_Path                    Frame Label  \\\n",
       "130675  object-dataset/1478901536388465963.jpg  1478901536388465963.jpg   car   \n",
       "130676  object-dataset/1478901536960505700.jpg  1478901536960505700.jpg   car   \n",
       "130677  object-dataset/1478901536960505700.jpg  1478901536960505700.jpg   car   \n",
       "130678  object-dataset/1478901536960505700.jpg  1478901536960505700.jpg   car   \n",
       "130679  object-dataset/1478901536960505700.jpg  1478901536960505700.jpg   car   \n",
       "\n",
       "        ymin  xmin  ymax  xmax  \n",
       "130675   552  1048   748  1348  \n",
       "130676   606     0   780   142  \n",
       "130677   604   146   692   246  \n",
       "130678   582   710   618   800  \n",
       "130679   546   896   790  1228  "
      ]
     },
     "execution_count": 6,
     "metadata": {},
     "output_type": "execute_result"
    }
   ],
   "source": [
    "df_vehicles.tail()"
   ]
  },
  {
   "cell_type": "code",
   "execution_count": 7,
   "metadata": {
    "collapsed": true
   },
   "outputs": [],
   "source": [
    "def augment_brightness_camera_images(image):\n",
    "    \n",
    "    ### Augment brightness \n",
    "    image1 = cv2.cvtColor(image,cv2.COLOR_RGB2HSV)\n",
    "    random_bright = .25+np.random.uniform()\n",
    "    #print(random_bright)\n",
    "    image1[:,:,2] = image1[:,:,2]*random_bright\n",
    "    image1 = cv2.cvtColor(image1,cv2.COLOR_HSV2RGB)\n",
    "    return image1\n",
    "\n",
    "def trans_image(image,bb_boxes_f,trans_range):\n",
    "    # Translation augmentation\n",
    "    bb_boxes_f = bb_boxes_f.copy(deep=True)\n",
    "\n",
    "    tr_x = trans_range*np.random.uniform()-trans_range/2\n",
    "    tr_y = trans_range*np.random.uniform()-trans_range/2\n",
    "\n",
    "    Trans_M = np.float32([[1,0,tr_x],[0,1,tr_y]])\n",
    "    rows,cols,channels = image.shape\n",
    "    bb_boxes_f['xmin'] = bb_boxes_f['xmin']+tr_x\n",
    "    bb_boxes_f['xmax'] = bb_boxes_f['xmax']+tr_x\n",
    "    bb_boxes_f['ymin'] = bb_boxes_f['ymin']+tr_y\n",
    "    bb_boxes_f['ymax'] = bb_boxes_f['ymax']+tr_y\n",
    "    \n",
    "    image_tr = cv2.warpAffine(image,Trans_M,(cols,rows))\n",
    "    \n",
    "    return image_tr,bb_boxes_f\n",
    "\n",
    "\n",
    "def stretch_image(img,bb_boxes_f,scale_range):\n",
    "    # Stretching augmentation \n",
    "    \n",
    "    bb_boxes_f = bb_boxes_f.copy(deep=True)\n",
    "    \n",
    "    tr_x1 = scale_range*np.random.uniform()\n",
    "    tr_y1 = scale_range*np.random.uniform()\n",
    "    p1 = (tr_x1,tr_y1)\n",
    "    tr_x2 = scale_range*np.random.uniform()\n",
    "    tr_y2 = scale_range*np.random.uniform()\n",
    "    p2 = (img.shape[1]-tr_x2,tr_y1)\n",
    "\n",
    "    p3 = (img.shape[1]-tr_x2,img.shape[0]-tr_y2)\n",
    "    p4 = (tr_x1,img.shape[0]-tr_y2)\n",
    "\n",
    "    pts1 = np.float32([[p1[0],p1[1]],\n",
    "                   [p2[0],p2[1]],\n",
    "                   [p3[0],p3[1]],\n",
    "                   [p4[0],p4[1]]])\n",
    "    pts2 = np.float32([[0,0],\n",
    "                   [img.shape[1],0],\n",
    "                   [img.shape[1],img.shape[0]],\n",
    "                   [0,img.shape[0]] ]\n",
    "                   )\n",
    "\n",
    "    M = cv2.getPerspectiveTransform(pts1,pts2)\n",
    "    img = cv2.warpPerspective(img,M,(img.shape[1],img.shape[0]))\n",
    "    img = np.array(img,dtype=np.uint8)\n",
    "    \n",
    "    bb_boxes_f['xmin'] = (bb_boxes_f['xmin'] - p1[0])/(p2[0]-p1[0])*img.shape[1]\n",
    "    bb_boxes_f['xmax'] = (bb_boxes_f['xmax'] - p1[0])/(p2[0]-p1[0])*img.shape[1]\n",
    "    bb_boxes_f['ymin'] = (bb_boxes_f['ymin'] - p1[1])/(p3[1]-p1[1])*img.shape[0]\n",
    "    bb_boxes_f['ymax'] = (bb_boxes_f['ymax'] - p1[1])/(p3[1]-p1[1])*img.shape[0]\n",
    "    \n",
    "    return img,bb_boxes_f\n",
    "def get_image_name(df,ind,size=(640,300),augmentation = False,trans_range = 20,scale_range=20):\n",
    "    ### Get image by name\n",
    "    \n",
    "    file_name = df['File_Path'][ind]\n",
    "    img = cv2.imread(file_name)\n",
    "    img_size = np.shape(img)\n",
    "    \n",
    "    img = cv2.cvtColor(img,cv2.COLOR_BGR2RGB)\n",
    "    img = cv2.resize(img,size)\n",
    "    name_str = file_name.split('/')\n",
    "    name_str = name_str[-1]\n",
    "    #print(name_str)\n",
    "    #print(file_name)\n",
    "    bb_boxes = df[df['Frame'] == name_str].reset_index()\n",
    "    img_size_post = np.shape(img)\n",
    "    \n",
    "    if augmentation == True:\n",
    "        img,bb_boxes = trans_image(img,bb_boxes,trans_range)\n",
    "        img,bb_boxes = stretch_image(img,bb_boxes,scale_range)\n",
    "        img = augment_brightness_camera_images(img)\n",
    "    \n",
    "        \n",
    "    bb_boxes['xmin'] = np.round(bb_boxes['xmin']/img_size[1]*img_size_post[1])\n",
    "    bb_boxes['xmax'] = np.round(bb_boxes['xmax']/img_size[1]*img_size_post[1])\n",
    "    bb_boxes['ymin'] = np.round(bb_boxes['ymin']/img_size[0]*img_size_post[0])\n",
    "    bb_boxes['ymax'] = np.round(bb_boxes['ymax']/img_size[0]*img_size_post[0])\n",
    "    bb_boxes['Area'] = (bb_boxes['xmax']- bb_boxes['xmin'])*(bb_boxes['ymax']- bb_boxes['ymin']) \n",
    "    #bb_boxes = bb_boxes[bb_boxes['Area']>400]\n",
    "\n",
    "    return name_str,img,bb_boxes\n",
    "\n",
    "\n",
    "def get_mask_seg(img,bb_boxes_f):\n",
    "    \n",
    "    #### Get mask \n",
    "    \n",
    "    img_mask = np.zeros_like(img[:,:,0])\n",
    "    for i in range(len(bb_boxes_f)):\n",
    "        #plot_bbox(bb_boxes,i,'g')\n",
    "        bb_box_i = [bb_boxes_f.iloc[i]['xmin'],bb_boxes_f.iloc[i]['ymin'],\n",
    "                bb_boxes_f.iloc[i]['xmax'],bb_boxes_f.iloc[i]['ymax']]\n",
    "        img_mask[int(bb_box_i[1]):int(bb_box_i[3]),int(bb_box_i[0]):int(bb_box_i[2])]= 1.\n",
    "        img_mask = np.reshape(img_mask,(np.shape(img_mask)[0],np.shape(img_mask)[1],1))\n",
    "    return img_mask"
   ]
  },
  {
   "cell_type": "code",
   "execution_count": 8,
   "metadata": {
    "collapsed": true
   },
   "outputs": [],
   "source": [
    "def plot_im_mask(im,im_mask):\n",
    "    ### Function to plot image mask \n",
    "\n",
    "    im = np.array(im,dtype=np.uint8)\n",
    "    im_mask = np.array(im_mask,dtype=np.uint8)\n",
    "    plt.subplot(1,3,1)\n",
    "    plt.imshow(im)\n",
    "    plt.axis('off')\n",
    "    plt.subplot(1,3,2)\n",
    "    plt.imshow(im_mask[:,:,0])\n",
    "    plt.axis('off')\n",
    "    plt.subplot(1,3,3)\n",
    "    plt.imshow(cv2.bitwise_and(im,im,mask=im_mask));\n",
    "    plt.axis('off')\n",
    "    plt.show();\n",
    "    \n",
    "def plot_bbox(bb_boxes,ind_bb,color='r',linewidth=2):\n",
    "    ### Plot bounding box\n",
    "    \n",
    "    bb_box_i = [bb_boxes.iloc[ind_bb]['xmin'],\n",
    "                bb_boxes.iloc[ind_bb]['ymin'],\n",
    "                bb_boxes.iloc[ind_bb]['xmax'],\n",
    "                bb_boxes.iloc[ind_bb]['ymax']]\n",
    "    plt.plot([bb_box_i[0],bb_box_i[2],bb_box_i[2],\n",
    "                  bb_box_i[0],bb_box_i[0]],\n",
    "             [bb_box_i[1],bb_box_i[1],bb_box_i[3],\n",
    "                  bb_box_i[3],bb_box_i[1]],\n",
    "             color,linewidth=linewidth)\n",
    "    \n",
    "def plot_im_bbox(im,bb_boxes):\n",
    "    ### Plot image and bounding box\n",
    "    plt.imshow(im)\n",
    "    for i in range(len(bb_boxes)):\n",
    "        plot_bbox(bb_boxes,i,'g')\n",
    "    \n",
    "        bb_box_i = [bb_boxes.iloc[i]['xmin'],bb_boxes.iloc[i]['ymin'],\n",
    "                bb_boxes.iloc[i]['xmax'],bb_boxes.iloc[i]['ymax']]\n",
    "        plt.plot(bb_box_i[0],bb_box_i[1],'rs')\n",
    "        plt.plot(bb_box_i[2],bb_box_i[3],'bs')\n",
    "    plt.axis('off');"
   ]
  },
  {
   "cell_type": "code",
   "execution_count": 13,
   "metadata": {},
   "outputs": [],
   "source": [
    "def generate_train_batch(data,batch_size = 32):\n",
    "    \n",
    "    batch_images = np.zeros((batch_size, img_rows, img_cols, 3))\n",
    "    batch_masks = np.zeros((batch_size, img_rows, img_cols, 1))\n",
    "    while 1:\n",
    "        for i_batch in range(batch_size):\n",
    "            i_line = np.random.randint(len(data)-2000)\n",
    "            name_str,img,bb_boxes = get_image_name(df_vehicles,i_line,\n",
    "                                                   size=(img_cols, img_rows),\n",
    "                                                  augmentation=True,\n",
    "                                                   trans_range=50,\n",
    "                                                   scale_range=50\n",
    "                                                  )\n",
    "            img_mask = get_mask_seg(img,bb_boxes)\n",
    "            batch_images[i_batch] = img\n",
    "            batch_masks[i_batch] =img_mask\n",
    "        yield batch_images, batch_masks\n",
    "        \n",
    "#### Testing generator, generates augmented images\n",
    "def generate_test_batch(data,batch_size = 32):\n",
    "    batch_images = np.zeros((batch_size, img_rows, img_cols, 3))\n",
    "    batch_masks = np.zeros((batch_size, img_rows, img_cols, 1))\n",
    "    while 1:\n",
    "        for i_batch in range(batch_size):\n",
    "            i_line = np.random.randint(2000)\n",
    "            i_line = i_line+len(data)-2000\n",
    "            name_str,img,bb_boxes = get_image_name(df_vehicles,i_line,\n",
    "                                                   size=(img_cols, img_rows),\n",
    "                                                  augmentation=False,\n",
    "                                                   trans_range=0,\n",
    "                                                   scale_range=0\n",
    "                                                  )\n",
    "            img_mask = get_mask_seg(img,bb_boxes)\n",
    "            batch_images[i_batch] = img\n",
    "            batch_masks[i_batch] =img_mask\n",
    "        yield batch_images, batch_masks\n",
    "def rgb2gray(img):\n",
    "    return cv2.cvtColor(img,cv2.COLOR_RGB2GRAY)"
   ]
  },
  {
   "cell_type": "code",
   "execution_count": 10,
   "metadata": {
    "collapsed": true
   },
   "outputs": [],
   "source": [
    "img_rows = 480\n",
    "img_cols = 640"
   ]
  },
  {
   "cell_type": "code",
   "execution_count": 14,
   "metadata": {
    "collapsed": true
   },
   "outputs": [],
   "source": [
    "training_gen = generate_train_batch(df_vehicles,5)"
   ]
  },
  {
   "cell_type": "code",
   "execution_count": 15,
   "metadata": {},
   "outputs": [],
   "source": [
    "batch_img,batch_mask = next(training_gen)"
   ]
  },
  {
   "cell_type": "code",
   "execution_count": 17,
   "metadata": {},
   "outputs": [
    {
     "name": "stdout",
     "output_type": "stream",
     "text": [
      "(480, 640, 3)\n",
      "(480, 640, 1)\n"
     ]
    },
    {
     "data": {
      "image/png": "[encoded data removed]",
      "text/plain": [
       "<matplotlib.figure.Figure at 0x17ee6c88>"
      ]
     },
     "metadata": {},
     "output_type": "display_data"
    },
    {
     "name": "stdout",
     "output_type": "stream",
     "text": [
      "(480, 640, 3)\n",
      "(480, 640, 1)\n"
     ]
    },
    {
     "data": {
      "image/png": "[encoded data removed]",
      "text/plain": [
       "<matplotlib.figure.Figure at 0x91be550>"
      ]
     },
     "metadata": {},
     "output_type": "display_data"
    },
    {
     "name": "stdout",
     "output_type": "stream",
     "text": [
      "(480, 640, 3)\n",
      "(480, 640, 1)\n"
     ]
    },
    {
     "data": {
      "image/png": "[encoded data removed]",
      "text/plain": [
       "<matplotlib.figure.Figure at 0x110bdc88>"
      ]
     },
     "metadata": {},
     "output_type": "display_data"
    },
    {
     "name": "stdout",
     "output_type": "stream",
     "text": [
      "(480, 640, 3)\n",
      "(480, 640, 1)\n"
     ]
    },
    {
     "data": {
      "image/png": "[encoded data removed]",
      "text/plain": [
       "<matplotlib.figure.Figure at 0x17e012e8>"
      ]
     },
     "metadata": {},
     "output_type": "display_data"
    },
    {
     "name": "stdout",
     "output_type": "stream",
     "text": [
      "(480, 640, 3)\n",
      "(480, 640, 1)\n"
     ]
    },
    {
     "data": {
      "image/png": "[encoded data removed]",
      "text/plain": [
       "<matplotlib.figure.Figure at 0x14884d30>"
      ]
     },
     "metadata": {},
     "output_type": "display_data"
    }
   ],
   "source": [
    "for i in range(5):\n",
    "    im = np.array(batch_img[i],dtype=np.uint8)\n",
    "    im_mask = np.array(batch_mask[i],dtype=np.uint8)\n",
    "    \n",
    "    #im = rgb2gray(im)\n",
    "    \n",
    "    print(im.shape)\n",
    "    print (im_mask.shape)\n",
    "    \n",
    "    \n",
    "    plt.subplot(1,3,1)\n",
    "    plt.imshow(im)\n",
    "    plt.axis('off')\n",
    "    \n",
    "    plt.subplot(1,3,2)\n",
    "    plt.imshow(im_mask[:,:,0])\n",
    "    plt.axis('off')\n",
    "    \n",
    "    plt.subplot(1,3,3)\n",
    "    plt.imshow(cv2.bitwise_and(im ,im , mask=im_mask));\n",
    "    plt.axis('off')\n",
    "    \n",
    "    plt.show()"
   ]
  },
  {
   "cell_type": "code",
   "execution_count": 18,
   "metadata": {
    "collapsed": true
   },
   "outputs": [],
   "source": [
    "def IOU_calc(y_true, y_pred):\n",
    "    y_true_f = K.flatten(y_true)\n",
    "    y_pred_f = K.flatten(y_pred)\n",
    "    intersection = K.sum(y_true_f * y_pred_f)\n",
    "    \n",
    "    return 2*(intersection + smooth) / (K.sum(y_true_f) + K.sum(y_pred_f) + smooth)\n",
    "\n",
    "\n",
    "def IOU_calc_loss(y_true, y_pred):\n",
    "    return -IOU_calc(y_true, y_pred)"
   ]
  },
  {
   "cell_type": "code",
   "execution_count": 19,
   "metadata": {
    "collapsed": true
   },
   "outputs": [],
   "source": [
    "def get_unet():\n",
    "    inputs = Input((img_rows, img_cols, 3))\n",
    "    #gray = Lambda(rgb2gray)(inputs)\n",
    "    inputs_norm = Lambda(lambda x: x/127.5 - 1.)(inputs)\n",
    "    conv1 = Conv2D(32, (3, 3), activation='relu', padding='same')(inputs_norm)\n",
    "    conv1 = Conv2D(32, (3, 3), activation='relu', padding='same')(conv1)\n",
    "    pool1 = MaxPooling2D(pool_size=(2, 2))(conv1)\n",
    "\n",
    "    conv2 = Conv2D(64, (3, 3), activation='relu', padding='same')(pool1)\n",
    "    conv2 = Conv2D(64, (3, 3), activation='relu', padding='same')(conv2)\n",
    "    pool2 = MaxPooling2D(pool_size=(2, 2))(conv2)\n",
    "\n",
    "    conv3 = Conv2D(128, (3, 3), activation='relu', padding='same')(pool2)\n",
    "    conv3 = Conv2D(128, (3, 3), activation='relu', padding='same')(conv3)\n",
    "    pool3 = MaxPooling2D(pool_size=(2, 2))(conv3)\n",
    "\n",
    "    conv4 = Conv2D(256, (3, 3), activation='relu', padding='same')(pool3)\n",
    "    conv4 = Conv2D(256, (3, 3), activation='relu', padding='same')(conv4)\n",
    "    pool4 = MaxPooling2D(pool_size=(2, 2))(conv4)\n",
    "\n",
    "    conv5 = Conv2D(512, (3, 3), activation='relu', padding='same')(pool4)\n",
    "    conv5 = Conv2D(512, (3, 3), activation='relu', padding='same')(conv5)\n",
    "\n",
    "    up6 = concatenate([Conv2DTranspose(256, (2, 2), strides=(2, 2), padding='same')(conv5), conv4], axis=3)\n",
    "    conv6 = Conv2D(256, (3, 3), activation='relu', padding='same')(up6)\n",
    "    conv6 = Conv2D(256, (3, 3), activation='relu', padding='same')(conv6)\n",
    "\n",
    "    up7 = concatenate([Conv2DTranspose(128, (2, 2), strides=(2, 2), padding='same')(conv6), conv3], axis=3)\n",
    "    conv7 = Conv2D(128, (3, 3), activation='relu', padding='same')(up7)\n",
    "    conv7 = Conv2D(128, (3, 3), activation='relu', padding='same')(conv7)\n",
    "\n",
    "    up8 = concatenate([Conv2DTranspose(64, (2, 2), strides=(2, 2), padding='same')(conv7), conv2], axis=3)\n",
    "    conv8 = Conv2D(64, (3, 3), activation='relu', padding='same')(up8)\n",
    "    conv8 = Conv2D(64, (3, 3), activation='relu', padding='same')(conv8)\n",
    "\n",
    "    up9 = concatenate([Conv2DTranspose(32, (2, 2), strides=(2, 2), padding='same')(conv8), conv1], axis=3)\n",
    "    conv9 = Conv2D(32, (3, 3), activation='relu', padding='same')(up9)\n",
    "    conv9 = Conv2D(32, (3, 3), activation='relu', padding='same')(conv9)\n",
    "\n",
    "    conv10 = Conv2D(1, (1, 1), activation='sigmoid')(conv9)\n",
    "\n",
    "    model = Model(inputs=[inputs], outputs=[conv10])\n",
    "\n",
    "    #model.compile(optimizer=Adam(lr=1e-4), loss=dice_coef_loss, metrics=[dice_coef])\n",
    "\n",
    "    return model\n"
   ]
  },
  {
   "cell_type": "code",
   "execution_count": 20,
   "metadata": {},
   "outputs": [
    {
     "name": "stdout",
     "output_type": "stream",
     "text": [
      "____________________________________________________________________________________________________\n",
      "Layer (type)                     Output Shape          Param #     Connected to                     \n",
      "====================================================================================================\n",
      "input_1 (InputLayer)             (None, 480, 640, 3)   0                                            \n",
      "____________________________________________________________________________________________________\n",
      "lambda_1 (Lambda)                (None, 480, 640, 3)   0           input_1[0][0]                    \n",
      "____________________________________________________________________________________________________\n",
      "conv2d_1 (Conv2D)                (None, 480, 640, 32)  896         lambda_1[0][0]                   \n",
      "____________________________________________________________________________________________________\n",
      "conv2d_2 (Conv2D)                (None, 480, 640, 32)  9248        conv2d_1[0][0]                   \n",
      "____________________________________________________________________________________________________\n",
      "max_pooling2d_1 (MaxPooling2D)   (None, 240, 320, 32)  0           conv2d_2[0][0]                   \n",
      "____________________________________________________________________________________________________\n",
      "conv2d_3 (Conv2D)                (None, 240, 320, 64)  18496       max_pooling2d_1[0][0]            \n",
      "____________________________________________________________________________________________________\n",
      "conv2d_4 (Conv2D)                (None, 240, 320, 64)  36928       conv2d_3[0][0]                   \n",
      "____________________________________________________________________________________________________\n",
      "max_pooling2d_2 (MaxPooling2D)   (None, 120, 160, 64)  0           conv2d_4[0][0]                   \n",
      "____________________________________________________________________________________________________\n",
      "conv2d_5 (Conv2D)                (None, 120, 160, 128) 73856       max_pooling2d_2[0][0]            \n",
      "____________________________________________________________________________________________________\n",
      "conv2d_6 (Conv2D)                (None, 120, 160, 128) 147584      conv2d_5[0][0]                   \n",
      "____________________________________________________________________________________________________\n",
      "max_pooling2d_3 (MaxPooling2D)   (None, 60, 80, 128)   0           conv2d_6[0][0]                   \n",
      "____________________________________________________________________________________________________\n",
      "conv2d_7 (Conv2D)                (None, 60, 80, 256)   295168      max_pooling2d_3[0][0]            \n",
      "____________________________________________________________________________________________________\n",
      "conv2d_8 (Conv2D)                (None, 60, 80, 256)   590080      conv2d_7[0][0]                   \n",
      "____________________________________________________________________________________________________\n",
      "max_pooling2d_4 (MaxPooling2D)   (None, 30, 40, 256)   0           conv2d_8[0][0]                   \n",
      "____________________________________________________________________________________________________\n",
      "conv2d_9 (Conv2D)                (None, 30, 40, 512)   1180160     max_pooling2d_4[0][0]            \n",
      "____________________________________________________________________________________________________\n",
      "conv2d_10 (Conv2D)               (None, 30, 40, 512)   2359808     conv2d_9[0][0]                   \n",
      "____________________________________________________________________________________________________\n",
      "conv2d_transpose_1 (Conv2DTransp (None, 60, 80, 256)   524544      conv2d_10[0][0]                  \n",
      "____________________________________________________________________________________________________\n",
      "concatenate_1 (Concatenate)      (None, 60, 80, 512)   0           conv2d_transpose_1[0][0]         \n",
      "                                                                   conv2d_8[0][0]                   \n",
      "____________________________________________________________________________________________________\n",
      "conv2d_11 (Conv2D)               (None, 60, 80, 256)   1179904     concatenate_1[0][0]              \n",
      "____________________________________________________________________________________________________\n",
      "conv2d_12 (Conv2D)               (None, 60, 80, 256)   590080      conv2d_11[0][0]                  \n",
      "____________________________________________________________________________________________________\n",
      "conv2d_transpose_2 (Conv2DTransp (None, 120, 160, 128) 131200      conv2d_12[0][0]                  \n",
      "____________________________________________________________________________________________________\n",
      "concatenate_2 (Concatenate)      (None, 120, 160, 256) 0           conv2d_transpose_2[0][0]         \n",
      "                                                                   conv2d_6[0][0]                   \n",
      "____________________________________________________________________________________________________\n",
      "conv2d_13 (Conv2D)               (None, 120, 160, 128) 295040      concatenate_2[0][0]              \n",
      "____________________________________________________________________________________________________\n",
      "conv2d_14 (Conv2D)               (None, 120, 160, 128) 147584      conv2d_13[0][0]                  \n",
      "____________________________________________________________________________________________________\n",
      "conv2d_transpose_3 (Conv2DTransp (None, 240, 320, 64)  32832       conv2d_14[0][0]                  \n",
      "____________________________________________________________________________________________________\n",
      "concatenate_3 (Concatenate)      (None, 240, 320, 128) 0           conv2d_transpose_3[0][0]         \n",
      "                                                                   conv2d_4[0][0]                   \n",
      "____________________________________________________________________________________________________\n",
      "conv2d_15 (Conv2D)               (None, 240, 320, 64)  73792       concatenate_3[0][0]              \n",
      "____________________________________________________________________________________________________\n",
      "conv2d_16 (Conv2D)               (None, 240, 320, 64)  36928       conv2d_15[0][0]                  \n",
      "____________________________________________________________________________________________________\n",
      "conv2d_transpose_4 (Conv2DTransp (None, 480, 640, 32)  8224        conv2d_16[0][0]                  \n",
      "____________________________________________________________________________________________________\n",
      "concatenate_4 (Concatenate)      (None, 480, 640, 64)  0           conv2d_transpose_4[0][0]         \n",
      "                                                                   conv2d_2[0][0]                   \n",
      "____________________________________________________________________________________________________\n",
      "conv2d_17 (Conv2D)               (None, 480, 640, 32)  18464       concatenate_4[0][0]              \n",
      "____________________________________________________________________________________________________\n",
      "conv2d_18 (Conv2D)               (None, 480, 640, 32)  9248        conv2d_17[0][0]                  \n",
      "____________________________________________________________________________________________________\n",
      "conv2d_19 (Conv2D)               (None, 480, 640, 1)   33          conv2d_18[0][0]                  \n",
      "====================================================================================================\n",
      "Total params: 7,760,097\n",
      "Trainable params: 7,760,097\n",
      "Non-trainable params: 0\n",
      "____________________________________________________________________________________________________\n"
     ]
    }
   ],
   "source": [
    "model = get_unet()\n",
    "model.summary()"
   ]
  },
  {
   "cell_type": "code",
   "execution_count": 22,
   "metadata": {
    "collapsed": true
   },
   "outputs": [],
   "source": [
    "training_gen = generate_train_batch(df_vehicles,1)\n",
    "smooth = 1.\n",
    "model.compile(optimizer=Adam(lr=1e-4), loss=IOU_calc_loss, metrics=[IOU_calc])"
   ]
  },
  {
   "cell_type": "code",
   "execution_count": 23,
   "metadata": {},
   "outputs": [
    {
     "name": "stdout",
     "output_type": "stream",
     "text": [
      "Epoch 1/1\n",
      "10/10 [==============================] - 218s - loss: -0.1000 - IOU_calc: 0.1000    \n",
      "save done.\n"
     ]
    }
   ],
   "source": [
    "history = model.fit_generator(training_gen, steps_per_epoch=10, epochs=1)\n",
    "\n",
    "model.save('model_detect_SmallUnet.h5')\n",
    "print(\"save done.\")"
   ]
  },
  {
   "cell_type": "code",
   "execution_count": null,
   "metadata": {
    "collapsed": true
   },
   "outputs": [],
   "source": []
  }
 ],
 "metadata": {
  "kernelspec": {
   "display_name": "Python 3",
   "language": "python",
   "name": "python3"
  },
  "language_info": {
   "codemirror_mode": {
    "name": "ipython",
    "version": 3
   },
   "file_extension": ".py",
   "mimetype": "text/x-python",
   "name": "python",
   "nbconvert_exporter": "python",
   "pygments_lexer": "ipython3",
   "version": "3.5.2"
  },
  "widgets": {
   "state": {},
   "version": "1.1.2"
  }
 },
 "nbformat": 4,
 "nbformat_minor": 2
}
